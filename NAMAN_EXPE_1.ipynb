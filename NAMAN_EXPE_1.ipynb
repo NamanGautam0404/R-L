{
  "cells": [
    {
      "cell_type": "markdown",
      "metadata": {
        "id": "view-in-github",
        "colab_type": "text"
      },
      "source": [
        "<a href=\"https://colab.research.google.com/github/NamanGautam0404/R-L/blob/main/NAMAN_EXPE_1.ipynb\" target=\"_parent\"><img src=\"https://colab.research.google.com/assets/colab-badge.svg\" alt=\"Open In Colab\"/></a>"
      ]
    },
    {
      "cell_type": "code",
      "execution_count": null,
      "id": "acb146d6",
      "metadata": {
        "id": "acb146d6",
        "outputId": "6fb67b86-9761-4226-d1a1-46148fc1ccbe"
      },
      "outputs": [
        {
          "name": "stdout",
          "output_type": "stream",
          "text": [
            "[1, 2, 3]\n"
          ]
        }
      ],
      "source": [
        "xs=[1,2,3]\n",
        "print(xs)"
      ]
    },
    {
      "cell_type": "code",
      "execution_count": null,
      "id": "ef5d9bf5",
      "metadata": {
        "id": "ef5d9bf5",
        "outputId": "8a94d6ce-4514-474e-b9d4-576b14dd52ab"
      },
      "outputs": [
        {
          "name": "stdout",
          "output_type": "stream",
          "text": [
            "[0, 1, 2, 3, 4]\n",
            "[2, 3]\n",
            "[2, 3, 4]\n",
            "[0, 1]\n",
            "[0, 1, 2, 3, 4]\n",
            "[0, 1, 2, 3]\n",
            "[0, 8, 9, 0, 3, 4]\n"
          ]
        }
      ],
      "source": [
        "nums=list(range(5))\n",
        "\n",
        "print(nums)\n",
        "print(nums[2:4])\n",
        "print(nums[2:])\n",
        "print(nums[:2])\n",
        "print(nums[:])\n",
        "print(nums[:-1])\n",
        "nums[1:3]=[8,9,0]\n",
        "print(nums)"
      ]
    },
    {
      "cell_type": "code",
      "execution_count": null,
      "id": "bf472e02",
      "metadata": {
        "id": "bf472e02",
        "outputId": "08aa4a19-2669-42cf-fdd2-7a62d17f630a"
      },
      "outputs": [
        {
          "name": "stdout",
          "output_type": "stream",
          "text": [
            "['cat', 'dog', 'monkey']\n",
            "['cat', 'dog', 'monkey']\n",
            "['cat', 'dog', 'monkey']\n"
          ]
        }
      ],
      "source": [
        "animals=['cat', 'dog', 'monkey']\n",
        "for animal in animals:\n",
        "  print(animals)"
      ]
    },
    {
      "cell_type": "code",
      "execution_count": null,
      "id": "f4f98b45",
      "metadata": {
        "id": "f4f98b45",
        "outputId": "a6986ca8-0383-49ae-b1ce-46831ee87920"
      },
      "outputs": [
        {
          "name": "stdout",
          "output_type": "stream",
          "text": [
            "#1: cat\n",
            "#2: dog\n",
            "#3: monkey\n"
          ]
        }
      ],
      "source": [
        "animals=['cat', 'dog', 'monkey']\n",
        "for idx, animals in enumerate(animals):\n",
        "  print('#{}: {}'. format(idx + 1, animals))"
      ]
    },
    {
      "cell_type": "code",
      "execution_count": null,
      "id": "70461c22",
      "metadata": {
        "id": "70461c22"
      },
      "outputs": [],
      "source": []
    }
  ],
  "metadata": {
    "kernelspec": {
      "display_name": "Python 3 (ipykernel)",
      "language": "python",
      "name": "python3"
    },
    "language_info": {
      "codemirror_mode": {
        "name": "ipython",
        "version": 3
      },
      "file_extension": ".py",
      "mimetype": "text/x-python",
      "name": "python",
      "nbconvert_exporter": "python",
      "pygments_lexer": "ipython3",
      "version": "3.9.12"
    },
    "colab": {
      "provenance": [],
      "include_colab_link": true
    }
  },
  "nbformat": 4,
  "nbformat_minor": 5
}